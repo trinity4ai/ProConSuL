{
 "cells": [
  {
   "cell_type": "code",
   "execution_count": null,
   "id": "dea21663-9dad-402a-8aea-1925de3facc4",
   "metadata": {
    "ExecuteTime": {
     "end_time": "2024-07-03T11:21:21.512100Z",
     "start_time": "2024-07-03T11:21:21.507101500Z"
    },
    "pycharm": {
     "name": "#%%\n"
    }
   },
   "outputs": [],
   "source": [
    "config_dir = '/PATH_TO_CONFIG_DIR'"
   ]
  },
  {
   "cell_type": "markdown",
   "id": "69585de0-b573-4b69-bdf2-6f8df459a8a3",
   "metadata": {
    "jp-MarkdownHeadingCollapsed": true,
    "pycharm": {
     "name": "#%% md\n"
    }
   },
   "source": [
    "## Imports"
   ]
  },
  {
   "cell_type": "code",
   "execution_count": null,
   "id": "98d6a6ad-45d3-4e8b-8186-3b9a4ae1dfbb",
   "metadata": {
    "ExecuteTime": {
     "end_time": "2024-07-03T11:21:23.521497300Z",
     "start_time": "2024-07-03T11:21:23.337651400Z"
    },
    "pycharm": {
     "name": "#%%\n"
    }
   },
   "outputs": [],
   "source": [
    "from hydra import compose, initialize_config_dir\n",
    "\n",
    "with initialize_config_dir(config_dir=config_dir, version_base='1.3'):\n",
    "        config_dict = compose(config_name='config')\n",
    "    \n",
    "import os\n",
    "os.chdir(config_dict.cwd)"
   ]
  },
  {
   "cell_type": "code",
   "execution_count": null,
   "id": "af23cb4e-e29a-4c8a-a51a-9e1cecb1995c",
   "metadata": {
    "ExecuteTime": {
     "end_time": "2024-07-03T11:21:24.114001600Z",
     "start_time": "2024-07-03T11:21:24.109982200Z"
    },
    "pycharm": {
     "name": "#%%\n"
    }
   },
   "outputs": [],
   "source": [
    "import json, pandas as pd, os\n",
    "from typing import Dict, List\n",
    "from proconsul.datasets_extraction.dataset_scheme import DatasetScheme"
   ]
  },
  {
   "cell_type": "code",
   "execution_count": null,
   "id": "44ada821-d29f-476b-a281-b3fc7c4f3431",
   "metadata": {
    "ExecuteTime": {
     "end_time": "2024-07-03T11:21:24.693451400Z",
     "start_time": "2024-07-03T11:21:24.691452Z"
    },
    "pycharm": {
     "name": "#%%\n"
    }
   },
   "outputs": [],
   "source": [
    "import ipywidgets as widgets\n",
    "from ipywidgets import interact, interactive, fixed, interact_manual\n",
    "from IPython.display import display, Markdown"
   ]
  },
  {
   "cell_type": "code",
   "execution_count": null,
   "id": "fead506d-b083-4e9a-b03a-e0227045da29",
   "metadata": {
    "ExecuteTime": {
     "end_time": "2024-07-03T11:21:25.252973200Z",
     "start_time": "2024-07-03T11:21:25.251974800Z"
    },
    "pycharm": {
     "name": "#%%\n"
    }
   },
   "outputs": [],
   "source": [
    "from time import gmtime, strftime"
   ]
  },
  {
   "cell_type": "code",
   "execution_count": null,
   "id": "4547f842",
   "metadata": {
    "pycharm": {
     "name": "#%%\n"
    }
   },
   "outputs": [],
   "source": [
    "def pretty_print(df):\n",
    "    return display(\n",
    "        Markdown(\n",
    "            df.to_html()\n",
    "            .replace(\"\\\\n\", \"<br>\")\n",
    "            .replace(\"<td>\", '<td align=\"left\" style=\"width:50%; font-size:26px;\">')\n",
    "            .replace('<table border=\"1\" class=\"dataframe\">', '<table border=\"1\" class=\"dataframe\" style=\"width:85%\">')\n",
    "        )\n",
    "    )"
   ]
  },
  {
   "cell_type": "markdown",
   "id": "9d25c526-195d-420a-ad06-2ae818c08192",
   "metadata": {
    "jp-MarkdownHeadingCollapsed": true,
    "pycharm": {
     "name": "#%% md\n"
    }
   },
   "source": [
    "## Data"
   ]
  },
  {
   "cell_type": "code",
   "execution_count": null,
   "id": "0b250358-9609-49b3-884d-679f59f4e29a",
   "metadata": {
    "ExecuteTime": {
     "end_time": "2024-07-03T11:21:26.152745800Z",
     "start_time": "2024-07-03T11:21:26.146734300Z"
    },
    "pycharm": {
     "name": "#%%\n"
    }
   },
   "outputs": [],
   "source": [
    "left_data_path = \"/PATH/SUMMARIES_A.json\"\n",
    "right_data_path = \"/PATH/SUMMARIES_B.json\"\n",
    "\n",
    "split = \"test\"\n",
    "with open(left_data_path, \"r\") as file:\n",
    "    left_dataset = json.load(file)[split]\n",
    "\n",
    "\n",
    "with open(right_data_path, \"r\") as file:\n",
    "    right_dataset = json.load(file)[split]\n",
    "\n",
    "points = [{DatasetScheme.ID_KEY: k, \"left\": left_dataset[k], \"right\": right_dataset[k]} for k in left_dataset.keys()]\n",
    "points = points[:1000]\n",
    "\n",
    "assert all(\n",
    "    p[\"left\"][DatasetScheme.CODE_KEY] == p[\"right\"][DatasetScheme.CODE_KEY]\n",
    "    and p[\"left\"][config_dict.evaluation.seen_context_key] == p[\"right\"][config_dict.evaluation.seen_context_key]\n",
    "    for p in points\n",
    ")"
   ]
  },
  {
   "cell_type": "markdown",
   "id": "cb012889-884d-4683-ba9d-246d25a0a84d",
   "metadata": {
    "jp-MarkdownHeadingCollapsed": true,
    "pycharm": {
     "name": "#%% md\n"
    }
   },
   "source": [
    "## Labeling setup"
   ]
  },
  {
   "cell_type": "code",
   "execution_count": null,
   "id": "4ca4ab88-9666-4edb-a07e-3d810b0b6fb6",
   "metadata": {
    "ExecuteTime": {
     "end_time": "2024-07-03T11:21:26.961953500Z",
     "start_time": "2024-07-03T11:21:26.893042300Z"
    },
    "pycharm": {
     "name": "#%%\n"
    }
   },
   "outputs": [],
   "source": [
    "q_to_labels = {\n",
    "    'Which summary is more sufficient?': \"Sufficiency\",\n",
    "}\n",
    "\n",
    "all_widgets = {}\n",
    "for q in q_to_labels:\n",
    "    widget_axis = tuple([widgets.ToggleButtons(\n",
    "        options=[('Unspecified', 'Unspecified'), ('Left', 0), ('Right', 1), ('Draw', 2)],\n",
    "        description=q,\n",
    "    ) for _ in range(len(points))])\n",
    "    all_widgets[q] = widget_axis\n",
    "\n",
    "\n",
    "def screen_cur_labels(save_with_name,\n",
    "                      all_widgets: Dict, \n",
    "                      points: List) -> None:\n",
    "    for i in range(len(points)):\n",
    "        for q, widget_axis in all_widgets.items():\n",
    "            points[i][q_to_labels[q]] = widget_axis[i].value\n",
    "    if save_with_name:\n",
    "        filename = filename_.value\n",
    "    else:\n",
    "        filename = 'annotation_chkpt_'+strftime(\"%Y-%m-%d\", gmtime())\n",
    "    save_dir = ('/').join(config_dict.path_after_annotation.split('/')[:-1])\n",
    "\n",
    "    full_path = f'{save_dir}/{filename}.json'\n",
    "    old_data = dict()\n",
    "    if os.path.exists(full_path):\n",
    "        with open(full_path, 'r') as file:\n",
    "            old_data = json.load(file)\n",
    "    old_data[split] = {p[DatasetScheme.ID_KEY]: p for p in points}\n",
    "\n",
    "    os.makedirs(save_dir, exist_ok=True)\n",
    "    with open(f'{save_dir}/{filename}.json', 'w') as file:\n",
    "        json.dump(old_data, file, indent=2)\n",
    "\n",
    "\n",
    "save_state = False\n",
    "next_state = False\n",
    "slider = widgets.IntSlider(min=0, max=len(points)-1, step=1, value=0)\n",
    "def get_studio(save_click: bool, \n",
    "               point_n: int,\n",
    "               next_click: bool,\n",
    "               all_widgets: Dict, \n",
    "               points: List) -> None:\n",
    "    global save_state, next_state, slider\n",
    "    if next_state != next_click:\n",
    "        next_state = next_click\n",
    "        slider.value += 1\n",
    "    else:\n",
    "        save_with_name = save_state!=save_click\n",
    "        save_state = save_click\n",
    "        screen_cur_labels(save_with_name, all_widgets, points)\n",
    "        for q, widget_axis in all_widgets.items():\n",
    "            display(widget_axis[point_n])\n",
    "        print()\n",
    "        pretty_print(\n",
    "            pd.DataFrame(\n",
    "                {\n",
    "                    \"left\": [points[point_n][\"left\"][config_dict.evaluation.doc_to_eval_key]],\n",
    "                    \"right\": [points[point_n][\"right\"][config_dict.evaluation.doc_to_eval_key]],\n",
    "                }\n",
    "            )\n",
    "        )\n",
    "        print(f'______\\n{points[point_n][\"left\"][DatasetScheme.CODE_KEY]}')\n",
    "        if config_dict.evaluation.seen_context_key is None:\n",
    "            seen_cxt = ''\n",
    "        else:\n",
    "            seen_cxt = points[point_n][\"left\"][config_dict.evaluation.seen_context_key]\n",
    "        print(f'\\n______\\nCONTEXT SEEN:\\n\\n{seen_cxt}')"
   ]
  },
  {
   "cell_type": "code",
   "execution_count": null,
   "id": "7e1d83ad-2f58-4f4f-a0b3-3dde955182d6",
   "metadata": {
    "ExecuteTime": {
     "end_time": "2024-07-03T11:21:27.317692900Z",
     "start_time": "2024-07-03T11:21:27.313319200Z"
    },
    "pycharm": {
     "name": "#%%\n"
    }
   },
   "outputs": [],
   "source": [
    "default_filename = config_dict.path_after_annotation.split('/')[-1].split('.')[0]\n",
    "default_dirname = config_dict.path_after_annotation.split('/')[-2]\n",
    "name_ = widgets.Text(placeholder='used as dir name', \n",
    "                     description='Your name:',\n",
    "                     value=default_dirname,\n",
    "                    )\n",
    "filename_ = widgets.Text(placeholder='filename to save', \n",
    "                         description='Filename:',\n",
    "                         value=default_filename,\n",
    "                        )"
   ]
  },
  {
   "cell_type": "markdown",
   "id": "b3b7055a-7b6e-425e-8b69-97a54a5eb1ce",
   "metadata": {
    "pycharm": {
     "name": "#%% md\n"
    }
   },
   "source": [
    "## Labeling itself"
   ]
  },
  {
   "cell_type": "code",
   "execution_count": null,
   "id": "8d7e1181-f509-41c0-a508-bdb9f15cadda",
   "metadata": {
    "ExecuteTime": {
     "end_time": "2024-07-03T11:21:28.249185600Z",
     "start_time": "2024-07-03T11:21:28.192865100Z"
    },
    "jupyter": {
     "source_hidden": true
    },
    "pycharm": {
     "name": "#%%\n"
    }
   },
   "outputs": [],
   "source": [
    "print('Don\\'t change 2 filds below if you want to use current evaluation config downstream.')\n",
    "display(name_)\n",
    "display(filename_)\n",
    "print('\\n')\n",
    "\n",
    "interact(get_studio, \n",
    "         save_click=widgets.ToggleButton(description='Click to Save', \n",
    "                                         button_style='info', \n",
    "                                         value=False),\n",
    "         point_n=slider,\n",
    "         next_click=widgets.ToggleButton(description='Next point', \n",
    "                                         button_style='warning', \n",
    "                                         value=False),\n",
    "         all_widgets=fixed(all_widgets),\n",
    "         points=fixed(points),\n",
    "        );"
   ]
  }
 ],
 "metadata": {
  "kernelspec": {
   "display_name": "Python 3 (ipykernel)",
   "language": "python",
   "name": "python3"
  },
  "language_info": {
   "codemirror_mode": {
    "name": "ipython",
    "version": 3
   },
   "file_extension": ".py",
   "mimetype": "text/x-python",
   "name": "python",
   "nbconvert_exporter": "python",
   "pygments_lexer": "ipython3",
   "version": "3.11.7"
  }
 },
 "nbformat": 4,
 "nbformat_minor": 5
}